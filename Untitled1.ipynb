{
 "cells": [
  {
   "cell_type": "code",
   "execution_count": 118,
   "metadata": {},
   "outputs": [],
   "source": [
    "#Importing relevant libraries for data manipulation \n",
    "import numpy as np\n",
    "import pandas as pd\n",
    "from sklearn.model_selection import train_test_split\n",
    "from sklearn.metrics import mean_squared_error, r2_score\n",
    "from sklearn.linear_model import LinearRegression\n",
    "from sklearn.metrics import mean_absolute_error\n",
    "from matplotlib import pyplot\n",
    "import seaborn as sns"
   ]
  },
  {
   "cell_type": "code",
   "execution_count": 119,
   "metadata": {},
   "outputs": [],
   "source": [
    "#Import dataset (Jan to April)\n",
    "df=pd.read_csv(r'C:\\Users\\Zerxes\\Desktop\\FanCode Assesment\\Train.csv')"
   ]
  },
  {
   "cell_type": "code",
   "execution_count": 120,
   "metadata": {},
   "outputs": [],
   "source": [
    "##Changing date variables from continour into categiorical variables \n",
    "df['formatted_date'] = pd.to_datetime(df['Date no'])\n",
    "df['day_of_year'] = df.formatted_date.apply(lambda x: x.dayofyear)\n",
    "df['week_of_year'] = df.formatted_date.apply(lambda x: x.weekofyear)\n",
    "df['dayOfWeek'] = pd.to_datetime(df['Date no']).apply(lambda x: x.weekday())\n",
    "df['dayOfWeek_2'] = df['formatted_date'].dt.day_name()\n",
    "df['Weekend_Y_N'] = df['dayOfWeek_2'].apply(lambda x: '0' if x in (['Saturday','Sunday']) else '1') # 0 for weekends\n",
    "df = df.drop(['Date no','formatted_date','dayOfWeek_2'], axis=1)"
   ]
  },
  {
   "cell_type": "code",
   "execution_count": 121,
   "metadata": {},
   "outputs": [],
   "source": [
    "# Create two grouped variables at highest content type level: video and non video content on website\n",
    "df['All non-video'] = df.loc[:,df.columns.str.contains('Non')].sum(axis=1)\n",
    "Video=['Tier 1 - Video', 'Tier 2 - Video', 'Tier 3 - Video',\n",
    "       'Tier 4 - Video', 'Tier 5 - Video', 'Tier 6 - Video', 'Tier 7 - Video',\n",
    "       'Tier 8 - Video', 'Tier 9 - Video']\n",
    "df['All video'] = df.loc[:,Video].sum(axis=1)\n"
   ]
  },
  {
   "cell_type": "code",
   "execution_count": 122,
   "metadata": {},
   "outputs": [],
   "source": [
    "## Create grouped variables by type of sgement content\n",
    "type_content=['1','2','3','4','5','6','7','8','9']\n",
    "for i in type_content:\n",
    "   df[i] = df.loc[:,df.columns.str.contains(i)].sum(axis=1)"
   ]
  },
  {
   "cell_type": "code",
   "execution_count": 35,
   "metadata": {},
   "outputs": [],
   "source": [
    "#df=df[[\"day_of_year\",\"week_of_year\",\"Weekend_Y_N\",\"All non-video\",\"All video\",\"3\",\"Distinct Users\"]]"
   ]
  },
  {
   "cell_type": "code",
   "execution_count": 123,
   "metadata": {},
   "outputs": [
    {
     "name": "stdout",
     "output_type": "stream",
     "text": [
      "MAE: 361283.546\n",
      "556612.6317359967\n",
      "0.7802475805975995\n"
     ]
    }
   ],
   "source": [
    "### Model built using all features .. r.sqaure:0.78; RMSE:556612.6317359967; MAE:361283.546\n",
    "# Create arrays for the features and the response variable\n",
    "y = df['Distinct Users']\n",
    "X = df.drop('Distinct Users', axis=1)\n",
    "\n",
    "# Create varibale reg to be called in ML fucntion \n",
    "reg = LinearRegression()\n",
    "\n",
    "# Split into training and test set (last 20% into testing)\n",
    "X_train, X_test, y_train, y_test = train_test_split(X, y, test_size = 0.2, random_state= 0)# X_train, X_test, y_train, y_test = train_test_split(X, y, test_size = 0.2, shuffle=False)\n",
    "\n",
    "# Fit the classifier to the data\n",
    "reg.fit(X_train, y_train)\n",
    "\n",
    "pred = reg.predict(X_test)\n",
    "\n",
    "test_set_rmse = (np.sqrt(mean_squared_error(y_test, pred)))\n",
    "\n",
    "test_set_r2 = r2_score(y_test, pred)\n",
    "mae = mean_absolute_error(y_test, pred)\n",
    "\n",
    "print('MAE: %.3f' % mae)\n",
    "print(test_set_rmse)\n",
    "print(test_set_r2)"
   ]
  },
  {
   "cell_type": "code",
   "execution_count": 110,
   "metadata": {},
   "outputs": [
    {
     "name": "stdout",
     "output_type": "stream",
     "text": [
      ">1 -389983.315 (76201.429)\n",
      ">2 -388464.544 (77637.353)\n",
      ">3 -378642.718 (69744.041)\n",
      ">4 -373901.604 (72493.720)\n",
      ">5 -365977.692 (71603.168)\n",
      ">6 -364179.727 (70836.239)\n",
      ">7 -421284.870 (281452.301)\n",
      ">8 -422402.597 (265310.561)\n",
      ">9 -422089.855 (297988.568)\n",
      ">10 -401812.006 (247841.090)\n",
      ">11 -394159.848 (294566.866)\n",
      ">12 -397356.504 (297044.734)\n",
      ">13 -386004.592 (245774.713)\n",
      ">14 -368223.774 (174901.380)\n",
      ">15 -367898.471 (178500.388)\n",
      ">16 -364408.532 (179322.704)\n",
      ">17 -366014.843 (182725.147)\n",
      ">18 -366014.843 (182725.147)\n",
      ">19 -366014.843 (182725.147)\n",
      ">20 -366014.843 (182725.147)\n",
      ">21 -366014.843 (182725.147)\n",
      ">22 -366014.843 (182725.147)\n"
     ]
    },
    {
     "data": {
      "image/png": "[encoded data removed]",
      "text/plain": [
       "<Figure size 432x288 with 1 Axes>"
      ]
     },
     "metadata": {
      "needs_background": "light"
     },
     "output_type": "display_data"
    }
   ],
   "source": [
    "# compare different numbers of features selected using correlation feature selection\n",
    "from numpy import mean\n",
    "from numpy import std\n",
    "from sklearn.datasets import make_regression\n",
    "from sklearn.model_selection import cross_val_score\n",
    "from sklearn.model_selection import RepeatedKFold\n",
    "from sklearn.feature_selection import SelectKBest\n",
    "from sklearn.feature_selection import f_regression\n",
    "from sklearn.linear_model import LinearRegression\n",
    "from sklearn.pipeline import Pipeline\n",
    "from matplotlib import pyplot\n",
    "# define dataset\n",
    "y = df['Distinct Users']\n",
    "X = df.drop('Distinct Users', axis=1)\n",
    "# define number of features to evaluate\n",
    "num_features = [i for i in range(X.shape[1]-21, X.shape[1]+1)]\n",
    "# enumerate each number of features\n",
    "results = list()\n",
    "for k in num_features:\n",
    "    # create pipeline\n",
    "    model = LinearRegression()\n",
    "    fs = SelectKBest(score_func=f_regression, k=k)\n",
    "    pipeline = Pipeline(steps=[('sel',fs), ('lr', model)])\n",
    "    # evaluate the model\n",
    "    cv = RepeatedKFold(n_splits=10, n_repeats=3, random_state=1)\n",
    "    scores = cross_val_score(pipeline, X, y, scoring='neg_mean_absolute_error', cv=cv, n_jobs=-1)\n",
    "    results.append(scores)\n",
    "    # summarize the results\n",
    "    print('>%d %.3f (%.3f)' % (k, mean(scores), std(scores)))\n",
    "# plot model performance for comparison\n",
    "pyplot.boxplot(results, labels=num_features, showmeans=True)\n",
    "pyplot.show()"
   ]
  },
  {
   "cell_type": "code",
   "execution_count": 113,
   "metadata": {},
   "outputs": [
    {
     "name": "stdout",
     "output_type": "stream",
     "text": [
      "MAE: 377400.271\n",
      "556612.6317359967\n",
      "0.8606205492392491\n"
     ]
    },
    {
     "name": "stderr",
     "output_type": "stream",
     "text": [
      "C:\\Users\\Zerxes\\anaconda3\\lib\\site-packages\\sklearn\\feature_selection\\_univariate_selection.py:302: RuntimeWarning: invalid value encountered in true_divide\n",
      "  corr /= X_norms\n"
     ]
    }
   ],
   "source": [
    "# evaluation of a model using 7 features chosen with correlation: Correlation features; Rsquare: 0.864504930464389\n",
    "from sklearn.datasets import make_regression\n",
    "from sklearn.model_selection import train_test_split\n",
    "from sklearn.feature_selection import SelectKBest\n",
    "from sklearn.feature_selection import f_regression\n",
    "from sklearn.linear_model import LinearRegression\n",
    "from sklearn.metrics import mean_absolute_error\n",
    " \n",
    "# feature selection\n",
    "def select_features(X_train, y_train, X_test):\n",
    "    # configure to select a subset of features\n",
    "    fs = SelectKBest(score_func=f_regression, k=3)\n",
    "    # learn relationship from training data\n",
    "    fs.fit(X_train, y_train)\n",
    "    # transform train input data\n",
    "    X_train_fs = fs.transform(X_train)\n",
    "    # transform test input data\n",
    "    X_test_fs = fs.transform(X_test)\n",
    "    return X_train_fs, X_test_fs, fs\n",
    " \n",
    "# load the dataset\n",
    "y = df['Distinct Users']\n",
    "X = df.drop('Distinct Users', axis=1)\n",
    "# split into train and test sets\n",
    "X_train, X_test, y_train, y_test = train_test_split(X, y, test_size=0.33, random_state=1)\n",
    "# feature selection\n",
    "X_train_fs, X_test_fs, fs = select_features(X_train, y_train, X_test)\n",
    "# fit the model\n",
    "model = LinearRegression()\n",
    "model.fit(X_train_fs, y_train)\n",
    "# evaluate the model\n",
    "yhat = model.predict(X_test_fs)\n",
    "test_set_r2 = r2_score(y_test, yhat)\n",
    "mae = mean_absolute_error(y_test, yhat)\n",
    "# evaluate predictions\n",
    "mae = mean_absolute_error(y_test, yhat)\n",
    "print('MAE: %.3f' % mae)\n",
    "print(test_set_rmse)\n",
    "print(test_set_r2)"
   ]
  },
  {
   "cell_type": "code",
   "execution_count": 94,
   "metadata": {},
   "outputs": [
    {
     "name": "stderr",
     "output_type": "stream",
     "text": [
      "C:\\Users\\Zerxes\\anaconda3\\lib\\site-packages\\sklearn\\feature_selection\\_univariate_selection.py:302: RuntimeWarning: invalid value encountered in true_divide\n",
      "  corr /= X_norms\n"
     ]
    },
    {
     "name": "stdout",
     "output_type": "stream",
     "text": [
      "Feature 0: nan\n",
      "Feature 1: 0.002219\n",
      "Feature 2: 4.425754\n",
      "Feature 3: 3.735635\n",
      "Feature 4: 4.905911\n",
      "Feature 5: 0.824634\n",
      "Feature 6: 1.435337\n",
      "Feature 7: 0.639146\n",
      "Feature 8: 7.012314\n",
      "Feature 9: nan\n",
      "Feature 10: nan\n",
      "Feature 11: 4.987922\n",
      "Feature 12: 21.759179\n",
      "Feature 13: nan\n",
      "Feature 14: 2.918170\n",
      "Feature 15: nan\n",
      "Feature 16: 4.711538\n",
      "Feature 17: 0.718897\n",
      "Feature 18: 564.315689\n",
      "Feature 19: 554.711899\n",
      "Feature 20: 0.598985\n",
      "Feature 21: 0.080451\n"
     ]
    },
    {
     "data": {
      "image/png": "[encoded data removed]",
      "text/plain": [
       "<Figure size 432x288 with 1 Axes>"
      ]
     },
     "metadata": {
      "needs_background": "light"
     },
     "output_type": "display_data"
    }
   ],
   "source": [
    "# example of correlation feature selection for numerical data\n",
    "from sklearn.datasets import make_regression\n",
    "from sklearn.model_selection import train_test_split\n",
    "from sklearn.feature_selection import SelectKBest\n",
    "from sklearn.feature_selection import f_regression\n",
    "from matplotlib import pyplot\n",
    " \n",
    "# feature selection\n",
    "def select_features(X_train, y_train, X_test):\n",
    "    # configure to select all features\n",
    "    fs = SelectKBest(score_func=f_regression, k='all')\n",
    "    # learn relationship from training data\n",
    "    fs.fit(X_train, y_train)\n",
    "    # transform train input data\n",
    "    X_train_fs = fs.transform(X_train)\n",
    "    # transform test input data\n",
    "    X_test_fs = fs.transform(X_test)\n",
    "    return X_train_fs, X_test_fs, fs\n",
    " \n",
    "# load the dataset\n",
    "y = df['Distinct Users']\n",
    "X = df.drop('Distinct Users', axis=1)\n",
    "# split into train and test sets\n",
    "X_train, X_test, y_train, y_test = train_test_split(X, y, test_size=0.33, random_state=1)\n",
    "# feature selection\n",
    "X_train_fs, X_test_fs, fs = select_features(X_train, y_train, X_test)\n",
    "# what are scores for the features\n",
    "for i in range(len(fs.scores_)):\n",
    "    print('Feature %d: %f' % (i, fs.scores_[i]))\n",
    "# plot the scores\n",
    "pyplot.bar([i for i in range(len(fs.scores_))], fs.scores_)\n",
    "pyplot.show()"
   ]
  },
  {
   "cell_type": "code",
   "execution_count": 95,
   "metadata": {},
   "outputs": [],
   "source": [
    "df.to_csv(r'C:\\Users\\Zerxes\\Desktop\\FanCode Assesment\\Feature_select.csv')"
   ]
  },
  {
   "cell_type": "code",
   "execution_count": null,
   "metadata": {},
   "outputs": [],
   "source": []
  }
 ],
 "metadata": {
  "kernelspec": {
   "display_name": "Python 3",
   "language": "python",
   "name": "python3"
  },
  "language_info": {
   "codemirror_mode": {
    "name": "ipython",
    "version": 3
   },
   "file_extension": ".py",
   "mimetype": "text/x-python",
   "name": "python",
   "nbconvert_exporter": "python",
   "pygments_lexer": "ipython3",
   "version": "3.8.5"
  }
 },
 "nbformat": 4,
 "nbformat_minor": 4
}
